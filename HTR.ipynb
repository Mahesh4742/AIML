{
 "cells": [
  {
   "cell_type": "code",
   "execution_count": 21,
   "id": "14811dd4",
   "metadata": {},
   "outputs": [
    {
     "data": {
      "text/plain": [
       "['DESCR', 'data', 'feature_names', 'frame', 'images', 'target', 'target_names']"
      ]
     },
     "execution_count": 21,
     "metadata": {},
     "output_type": "execute_result"
    }
   ],
   "source": [
    "ofrom sklearn import datasets \n",
    "digits = datasets.load_digits()\n",
    "dir(digits)"
   ]
  },
  {
   "cell_type": "code",
   "execution_count": 22,
   "id": "c255b334",
   "metadata": {},
   "outputs": [
    {
     "name": "stdout",
     "output_type": "stream",
     "text": [
      "[[ 0.  0.  5. 13.  9.  1.  0.  0.]\n",
      " [ 0.  0. 13. 15. 10. 15.  5.  0.]\n",
      " [ 0.  3. 15.  2.  0. 11.  8.  0.]\n",
      " [ 0.  4. 12.  0.  0.  8.  8.  0.]\n",
      " [ 0.  5.  8.  0.  0.  9.  8.  0.]\n",
      " [ 0.  4. 11.  0.  1. 12.  7.  0.]\n",
      " [ 0.  2. 14.  5. 10. 12.  0.  0.]\n",
      " [ 0.  0.  6. 13. 10.  0.  0.  0.]]\n"
     ]
    }
   ],
   "source": [
    "print(digits.images[0])"
   ]
  },
  {
   "cell_type": "code",
   "execution_count": 24,
   "id": "9b37af23",
   "metadata": {},
   "outputs": [],
   "source": [
    "import matplotlib.pyplot as plt\n",
    " \n",
    "def plot_multi(i):\n",
    "    nplots = 16\n",
    "    fig = plt.figure(figsize=(15, 15))\n",
    "    for j in range(nplots):\n",
    "        plt.subplot(4, 4, j+1)\n",
    "        plt.imshow(digits.images[i+j], cmap='binary')\n",
    "        plt.title(digits.target[i+j])\n",
    "        plt.axis('off')\n",
    "   \n",
    "    plt.show()\n",
    " \n",
    "    plot_multi(0)"
   ]
  },
  {
   "cell_type": "code",
   "execution_count": 7,
   "id": "3e137641",
   "metadata": {},
   "outputs": [],
   "source": [
    "\n",
    "X_train, X_test, y_train, y_test = train_test_split(X, y, test_size=0.2, random_state=42)\n"
   ]
  },
  {
   "cell_type": "code",
   "execution_count": 8,
   "id": "7967cc52",
   "metadata": {},
   "outputs": [
    {
     "name": "stdout",
     "output_type": "stream",
     "text": [
      "WARNING:tensorflow:From C:\\Users\\Mahesh\\anaconda3\\Lib\\site-packages\\keras\\src\\backend.py:873: The name tf.get_default_graph is deprecated. Please use tf.compat.v1.get_default_graph instead.\n",
      "\n"
     ]
    }
   ],
   "source": [
    "\n",
    "model = tf.keras.Sequential([\n",
    "    tf.keras.layers.Dense(128, activation='relu', input_shape=(X.shape[1],)),\n",
    "    tf.keras.layers.Dropout(0.2),\n",
    "    tf.keras.layers.Dense(10, activation='softmax')\n",
    "])"
   ]
  },
  {
   "cell_type": "code",
   "execution_count": 9,
   "id": "729613e3",
   "metadata": {},
   "outputs": [
    {
     "name": "stdout",
     "output_type": "stream",
     "text": [
      "WARNING:tensorflow:From C:\\Users\\Mahesh\\anaconda3\\Lib\\site-packages\\keras\\src\\optimizers\\__init__.py:309: The name tf.train.Optimizer is deprecated. Please use tf.compat.v1.train.Optimizer instead.\n",
      "\n"
     ]
    }
   ],
   "source": [
    "\n",
    "model.compile(optimizer='adam',\n",
    "              loss='sparse_categorical_crossentropy',\n",
    "              metrics=['accuracy'])"
   ]
  },
  {
   "cell_type": "code",
   "execution_count": 10,
   "id": "bf60fd54",
   "metadata": {},
   "outputs": [
    {
     "name": "stdout",
     "output_type": "stream",
     "text": [
      "Epoch 1/20\n",
      "WARNING:tensorflow:From C:\\Users\\Mahesh\\anaconda3\\Lib\\site-packages\\keras\\src\\utils\\tf_utils.py:492: The name tf.ragged.RaggedTensorValue is deprecated. Please use tf.compat.v1.ragged.RaggedTensorValue instead.\n",
      "\n",
      "WARNING:tensorflow:From C:\\Users\\Mahesh\\anaconda3\\Lib\\site-packages\\keras\\src\\engine\\base_layer_utils.py:384: The name tf.executing_eagerly_outside_functions is deprecated. Please use tf.compat.v1.executing_eagerly_outside_functions instead.\n",
      "\n",
      "45/45 [==============================] - 2s 14ms/step - loss: 1.9345 - accuracy: 0.4579 - val_loss: 1.5171 - val_accuracy: 0.8389\n",
      "Epoch 2/20\n",
      "45/45 [==============================] - 0s 7ms/step - loss: 1.2531 - accuracy: 0.7912 - val_loss: 0.9190 - val_accuracy: 0.8750\n",
      "Epoch 3/20\n",
      "45/45 [==============================] - 0s 6ms/step - loss: 0.8018 - accuracy: 0.8636 - val_loss: 0.5898 - val_accuracy: 0.8944\n",
      "Epoch 4/20\n",
      "45/45 [==============================] - 0s 7ms/step - loss: 0.5542 - accuracy: 0.9005 - val_loss: 0.4192 - val_accuracy: 0.9167\n",
      "Epoch 5/20\n",
      "45/45 [==============================] - 0s 7ms/step - loss: 0.4306 - accuracy: 0.9054 - val_loss: 0.3335 - val_accuracy: 0.9306\n",
      "Epoch 6/20\n",
      "45/45 [==============================] - 0s 7ms/step - loss: 0.3547 - accuracy: 0.9283 - val_loss: 0.2782 - val_accuracy: 0.9389\n",
      "Epoch 7/20\n",
      "45/45 [==============================] - 0s 6ms/step - loss: 0.3001 - accuracy: 0.9381 - val_loss: 0.2462 - val_accuracy: 0.9389\n",
      "Epoch 8/20\n",
      "45/45 [==============================] - 0s 6ms/step - loss: 0.2604 - accuracy: 0.9422 - val_loss: 0.2163 - val_accuracy: 0.9500\n",
      "Epoch 9/20\n",
      "45/45 [==============================] - 0s 7ms/step - loss: 0.2288 - accuracy: 0.9548 - val_loss: 0.1940 - val_accuracy: 0.9556\n",
      "Epoch 10/20\n",
      "45/45 [==============================] - 0s 7ms/step - loss: 0.2033 - accuracy: 0.9562 - val_loss: 0.1758 - val_accuracy: 0.9528\n",
      "Epoch 11/20\n",
      "45/45 [==============================] - 0s 7ms/step - loss: 0.1898 - accuracy: 0.9562 - val_loss: 0.1623 - val_accuracy: 0.9611\n",
      "Epoch 12/20\n",
      "45/45 [==============================] - 0s 7ms/step - loss: 0.1780 - accuracy: 0.9596 - val_loss: 0.1528 - val_accuracy: 0.9611\n",
      "Epoch 13/20\n",
      "45/45 [==============================] - 0s 7ms/step - loss: 0.1557 - accuracy: 0.9666 - val_loss: 0.1418 - val_accuracy: 0.9694\n",
      "Epoch 14/20\n",
      "45/45 [==============================] - 0s 6ms/step - loss: 0.1436 - accuracy: 0.9715 - val_loss: 0.1362 - val_accuracy: 0.9722\n",
      "Epoch 15/20\n",
      "45/45 [==============================] - 0s 6ms/step - loss: 0.1409 - accuracy: 0.9652 - val_loss: 0.1303 - val_accuracy: 0.9694\n",
      "Epoch 16/20\n",
      "45/45 [==============================] - 0s 7ms/step - loss: 0.1329 - accuracy: 0.9694 - val_loss: 0.1223 - val_accuracy: 0.9722\n",
      "Epoch 17/20\n",
      "45/45 [==============================] - 0s 7ms/step - loss: 0.1227 - accuracy: 0.9701 - val_loss: 0.1221 - val_accuracy: 0.9694\n",
      "Epoch 18/20\n",
      "45/45 [==============================] - 0s 7ms/step - loss: 0.1117 - accuracy: 0.9743 - val_loss: 0.1158 - val_accuracy: 0.9722\n",
      "Epoch 19/20\n",
      "45/45 [==============================] - 0s 7ms/step - loss: 0.1048 - accuracy: 0.9756 - val_loss: 0.1115 - val_accuracy: 0.9722\n",
      "Epoch 20/20\n",
      "45/45 [==============================] - 0s 7ms/step - loss: 0.0965 - accuracy: 0.9833 - val_loss: 0.1090 - val_accuracy: 0.9750\n"
     ]
    },
    {
     "data": {
      "text/plain": [
       "<keras.src.callbacks.History at 0x1f8ff749150>"
      ]
     },
     "execution_count": 10,
     "metadata": {},
     "output_type": "execute_result"
    }
   ],
   "source": [
    "\n",
    "model.fit(X_train, y_train, epochs=20, batch_size=32, validation_data=(X_test, y_test))\n"
   ]
  },
  {
   "cell_type": "code",
   "execution_count": 11,
   "id": "e7fef25f",
   "metadata": {},
   "outputs": [
    {
     "name": "stdout",
     "output_type": "stream",
     "text": [
      "12/12 [==============================] - 0s 3ms/step - loss: 0.1090 - accuracy: 0.9750\n",
      "Test accuracy: 97.50%\n"
     ]
    }
   ],
   "source": [
    "\n",
    "loss, accuracy = model.evaluate(X_test, y_test)\n",
    "print(f\"Test accuracy: {accuracy * 100:.2f}%\")\n"
   ]
  },
  {
   "cell_type": "code",
   "execution_count": null,
   "id": "5a04d6ed",
   "metadata": {},
   "outputs": [],
   "source": []
  },
  {
   "cell_type": "code",
   "execution_count": null,
   "id": "b4d5be28",
   "metadata": {},
   "outputs": [],
   "source": []
  },
  {
   "cell_type": "code",
   "execution_count": null,
   "id": "6153048e",
   "metadata": {},
   "outputs": [],
   "source": []
  }
 ],
 "metadata": {
  "kernelspec": {
   "display_name": "Python 3 (ipykernel)",
   "language": "python",
   "name": "python3"
  },
  "language_info": {
   "codemirror_mode": {
    "name": "ipython",
    "version": 3
   },
   "file_extension": ".py",
   "mimetype": "text/x-python",
   "name": "python",
   "nbconvert_exporter": "python",
   "pygments_lexer": "ipython3",
   "version": "3.11.4"
  }
 },
 "nbformat": 4,
 "nbformat_minor": 5
}
